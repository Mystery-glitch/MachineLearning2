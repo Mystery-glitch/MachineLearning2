{
 "cells": [
  {
   "cell_type": "markdown",
   "id": "12a637d8",
   "metadata": {},
   "source": [
    "Libraries"
   ]
  },
  {
   "cell_type": "code",
   "execution_count": null,
   "id": "cf1fd7a4",
   "metadata": {},
   "outputs": [],
   "source": [
    "import pandas as pd\n",
    "import numpy as np\n",
    "\n",
    "import torch\n",
    "import cv2\n",
    "\n",
    "from PIL import Image\n",
    "from torch.utils.data import DataLoader\n",
    "from torchvision import datasets, transforms"
   ]
  },
  {
   "cell_type": "markdown",
   "id": "c9a9e116",
   "metadata": {},
   "source": [
    "Checking device (GPU or CPU)"
   ]
  },
  {
   "cell_type": "code",
   "execution_count": 3,
   "id": "26f685df",
   "metadata": {},
   "outputs": [
    {
     "name": "stdout",
     "output_type": "stream",
     "text": [
      "cpu\n"
     ]
    }
   ],
   "source": [
    "device=torch.device(\"cudo:0\" if torch.cuda.is_available() else \"cpu\")\n",
    "print(device)"
   ]
  },
  {
   "cell_type": "markdown",
   "id": "4d1545f9",
   "metadata": {},
   "source": [
    "Normalizing the image to make the training stable\n",
    "- Min–Max Normalization → Convert pixel range 0–255 → [0,1]\n",
    "- Z-score Normalization (Standardize using ImageNet mean/std)\n",
    "- Mean Normalization (scale [-1,1])\n",
    "- Per-Image Stardardization (Normalize each image, zero mean/unit std)\n",
    "- Histogram Equalization → Convert image to grayscale and equalize histogram\n"
   ]
  },
  {
   "cell_type": "code",
   "execution_count": null,
   "id": "1d1bcb20",
   "metadata": {},
   "outputs": [],
   "source": [
    "def minMax():\n",
    "    transform=transforms.Compose([\n",
    "        transforms.Resize((224, 224)),\n",
    "        transforms.ToTensor()\n",
    "    ])\n",
    "    return transform\n",
    "\n",
    "def zScore():\n",
    "    transform=transforms.Compose([\n",
    "        transforms.Resize((224, 224)),\n",
    "        transforms.ToTensor(),\n",
    "        transforms.Normalize(mean=[0.485, 0.456, 0.406], std=[0.229, 0.224, 0.225])\n",
    "    ])\n",
    "    return transform\n",
    "\n",
    "def mean():\n",
    "    transform=transforms.Compose([\n",
    "        transforms.Resize((224, 224)),\n",
    "        transforms.ToTensor(),\n",
    "        transforms.Normalize(mean=[0.5, 0.5, 0.5], std=[0.5, 0.5, 0.5])\n",
    "    ])\n",
    "    return transform\n",
    "\n",
    "class perImageStandardization():\n",
    "    def __call__(self, img):\n",
    "        img=np.array(img).astype(np.float32)\n",
    "        mean=img.mean()\n",
    "        std=img.std()\n",
    "        std_adj = max(std, 1.0/np.sqrt(img.size))  # avoid division by zero\n",
    "        img = (img - mean) / std_adj\n",
    "        img = torch.tensor(img).permute(2,0,1)  # HWC -> CHW\n",
    "        return img\n",
    "\n",
    "def perImageStd():\n",
    "    transform=transforms.Compose([\n",
    "        transforms.Resize((224,224)),\n",
    "        perImageStandardization()\n",
    "    ])\n",
    "    return transform\n",
    "\n",
    "class HistogramEqualization:\n",
    "    def __call__(self, img):\n",
    "        img = np.array(img.convert(\"L\"))  # grayscale\n",
    "        img_eq = cv2.equalizeHist(img)\n",
    "        img_eq = torch.tensor(img_eq, dtype=torch.float32).unsqueeze(0) / 255.0  # CHW, scale [0,1]\n",
    "        return img_eq\n",
    "\n",
    "def histEqualization():\n",
    "    return transforms.Compose([\n",
    "        transforms.Resize((224,224)),\n",
    "        HistogramEqualization()\n",
    "    ])"
   ]
  },
  {
   "cell_type": "markdown",
   "id": "f0831d46",
   "metadata": {},
   "source": [
    "Loading the Dataset\n",
    "- Total number of data in the dataset: 27558\n",
    "- Total number of infected cells: 13779\n",
    "- Total number of unifected cells: 13779"
   ]
  },
  {
   "cell_type": "code",
   "execution_count": null,
   "id": "69cfd25d",
   "metadata": {},
   "outputs": [],
   "source": [
    "path = r\"D:\\cell_images\"\n",
    "transformDict = {\n",
    "    \"MinMax\" : minMax(),\n",
    "    \"Z-Score\" : zScore(),\n",
    "    \"Mean Normalization\" : mean(),\n",
    "    \"Per-Image Std\" : perImageStd(),\n",
    "    \"Histogram Equalization\" : histEqualization()\n",
    "}\n",
    "\n",
    "for name, transform in transformDict.items():\n",
    "    dataset=datasets.ImageFolder(root=path, transform=transform)"
   ]
  }
 ],
 "metadata": {
  "kernelspec": {
   "display_name": "Python 3",
   "language": "python",
   "name": "python3"
  },
  "language_info": {
   "codemirror_mode": {
    "name": "ipython",
    "version": 3
   },
   "file_extension": ".py",
   "mimetype": "text/x-python",
   "name": "python",
   "nbconvert_exporter": "python",
   "pygments_lexer": "ipython3",
   "version": "3.10.18"
  }
 },
 "nbformat": 4,
 "nbformat_minor": 5
}
